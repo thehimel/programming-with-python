{
 "cells": [
  {
   "cell_type": "code",
   "id": "initial_id",
   "metadata": {
    "collapsed": true,
    "ExecuteTime": {
     "end_time": "2024-10-21T19:12:02.769588Z",
     "start_time": "2024-10-21T19:12:02.767349Z"
    }
   },
   "source": [
    "def get_sum(x: float, y: float, z: float) -> float:\n",
    "    result: float = x + y + z\n",
    "    return result\n",
    "\n",
    "\n",
    "print(get_sum(1, 2, 3))\n",
    "print(get_sum(10, 20, 40))\n",
    "print(get_sum(200, 400, 600))"
   ],
   "outputs": [
    {
     "name": "stdout",
     "output_type": "stream",
     "text": [
      "6\n",
      "70\n",
      "1200\n"
     ]
    }
   ],
   "execution_count": 3
  }
 ],
 "metadata": {
  "kernelspec": {
   "display_name": "Python 3",
   "language": "python",
   "name": "python3"
  },
  "language_info": {
   "codemirror_mode": {
    "name": "ipython",
    "version": 2
   },
   "file_extension": ".py",
   "mimetype": "text/x-python",
   "name": "python",
   "nbconvert_exporter": "python",
   "pygments_lexer": "ipython2",
   "version": "2.7.6"
  }
 },
 "nbformat": 4,
 "nbformat_minor": 5
}
