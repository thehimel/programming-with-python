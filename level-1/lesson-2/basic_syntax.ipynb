{
 "cells": [
  {
   "metadata": {},
   "cell_type": "markdown",
   "source": [
    "# Python Basic Syntax\n",
    "\n",
    "## Print Statement\n",
    "\n",
    "* Used to output data.\n",
    "* The `print()` function outputs the text between the parentheses to the console.\n",
    "* Text (called a \"string\") is enclosed in quotes (`\"` or `'`)."
   ],
   "id": "4f93405ca5f52984"
  },
  {
   "cell_type": "code",
   "id": "initial_id",
   "metadata": {
    "collapsed": true,
    "ExecuteTime": {
     "end_time": "2024-10-05T13:42:33.426721Z",
     "start_time": "2024-10-05T13:42:33.424145Z"
    }
   },
   "source": "print(\"Hello, World!\")",
   "outputs": [
    {
     "name": "stdout",
     "output_type": "stream",
     "text": [
      "Hello, World!\n"
     ]
    }
   ],
   "execution_count": 1
  },
  {
   "metadata": {},
   "cell_type": "markdown",
   "source": [
    "## Variables\n",
    "\n",
    "* Store values without declaring types.\n",
    "* Variables are used to store data.\n",
    "* In Python, you don’t need to declare the type of variable explicitly.\n",
    "* Python automatically understands the data type based on the value assigned."
   ],
   "id": "8b541428ac605501"
  },
  {
   "metadata": {
    "ExecuteTime": {
     "end_time": "2024-10-05T13:43:55.178944Z",
     "start_time": "2024-10-05T13:43:55.176671Z"
    }
   },
   "cell_type": "code",
   "source": [
    "num = 10  # Integer\n",
    "name = \"John\"  # String\n",
    "print(num)\n",
    "print(name)"
   ],
   "id": "62072919a8c2060",
   "outputs": [
    {
     "name": "stdout",
     "output_type": "stream",
     "text": [
      "10\n",
      "John\n"
     ]
    }
   ],
   "execution_count": 3
  },
  {
   "metadata": {},
   "cell_type": "markdown",
   "source": [
    "## Comments\n",
    "\n",
    "* Comments are used to explain code and are ignored during execution.\n",
    "* Single-line comments use `#`.\n",
    "* Multi-line comments use triple quotes (`\"\"\"` or `'''`)."
   ],
   "id": "c7306714f608b6cc"
  },
  {
   "metadata": {},
   "cell_type": "code",
   "outputs": [],
   "execution_count": null,
   "source": [
    "# This is a comment\n",
    "\n",
    "\"\"\"\n",
    "This is a \n",
    "multi-line comment\n",
    "\"\"\""
   ],
   "id": "7722cc3053531cf6"
  },
  {
   "metadata": {},
   "cell_type": "markdown",
   "source": [
    "## Indentation\n",
    "\n",
    "* Indentation is crucial in Python.\n",
    "* Python uses indentation (spaces or tabs) to define code blocks."
   ],
   "id": "d64c0f599b7e730d"
  },
  {
   "metadata": {},
   "cell_type": "code",
   "outputs": [],
   "execution_count": null,
   "source": [
    "if 5 > 3:\n",
    "    print(\"Five is greater than three.\")\n",
    "    print(\"This line is also indented.\")\n",
    "\n",
    "print(\"This line is outside the block.\")"
   ],
   "id": "a7741d42bdc109da"
  },
  {
   "metadata": {},
   "cell_type": "markdown",
   "source": [
    "## Data Types\n",
    "\n",
    "* Python has several built-in data types:\n",
    "  * String: Text enclosed in quotes (`\"Hello\"`, `'World'`)\n",
    "  * Integer: Whole numbers (`42`, `2024`)\n",
    "  * Float: Decimal numbers (`3.14`, `0.99`)\n",
    "  * Boolean: Represents `True` or `False`\n",
    "* You can check the type of variable with the `type()` function:"
   ],
   "id": "14b75ffe8185711b"
  },
  {
   "metadata": {
    "ExecuteTime": {
     "end_time": "2024-10-05T14:16:24.916420Z",
     "start_time": "2024-10-05T14:16:24.914040Z"
    }
   },
   "cell_type": "code",
   "source": [
    "num = 5  # Integer\n",
    "marks = 80.6  # Float\n",
    "name = \"John\"  # String\n",
    "fruits = [\"apple\", \"banana\", \"cherry\"]  # List\n",
    "is_true = True  # Boolean\n",
    "\n",
    "print(f\"Type of {num}: {type(num)}\")\n",
    "print(f\"Type of {marks}: {type(marks)}\")\n",
    "print(f\"Type of {name}: {type(name)}\")\n",
    "print(f\"Type of {fruits}: {type(fruits)}\")\n",
    "print(f\"Type of {is_true}: {type(is_true)}\")"
   ],
   "id": "748ff777a6309f15",
   "outputs": [
    {
     "name": "stdout",
     "output_type": "stream",
     "text": [
      "Type of 5: <class 'int'>\n",
      "Type of 80.6: <class 'float'>\n",
      "Type of John: <class 'str'>\n",
      "Type of ['apple', 'banana', 'cherry']: <class 'list'>\n",
      "Type of True: <class 'bool'>\n"
     ]
    }
   ],
   "execution_count": 31
  },
  {
   "metadata": {},
   "cell_type": "markdown",
   "source": [
    "## Functions\n",
    "\n",
    "* Defined using `def` keyword.\n",
    "* Functions are reusable blocks of code that perform a specific task."
   ],
   "id": "e55490a6c22909df"
  },
  {
   "metadata": {
    "ExecuteTime": {
     "end_time": "2024-10-05T13:58:43.986356Z",
     "start_time": "2024-10-05T13:58:43.984133Z"
    }
   },
   "cell_type": "code",
   "source": [
    "def greet():\n",
    "    print(\"Hello!\")\n",
    "\n",
    "greet()"
   ],
   "id": "74404d9b2eb9aadc",
   "outputs": [
    {
     "name": "stdout",
     "output_type": "stream",
     "text": [
      "Hello!\n"
     ]
    }
   ],
   "execution_count": 25
  },
  {
   "metadata": {},
   "cell_type": "markdown",
   "source": [
    "## Loops\n",
    "\n",
    "* Loops allow you to repeat actions.\n",
    "* There are two main types in Python: `for` and `while`.\n",
    "\n",
    "### For Loop\n",
    "\n",
    "* The `for` loop iterates over a collection (like a `list`) and executes the code block for each item."
   ],
   "id": "3252734fed4507f8"
  },
  {
   "metadata": {
    "ExecuteTime": {
     "end_time": "2024-10-05T13:59:35.071609Z",
     "start_time": "2024-10-05T13:59:35.069437Z"
    }
   },
   "cell_type": "code",
   "source": [
    "fruits = [\"apple\", \"banana\", \"cherry\"]\n",
    "\n",
    "for fruit in fruits:\n",
    "    print(fruit)"
   ],
   "id": "b37d65dba9c230fd",
   "outputs": [
    {
     "name": "stdout",
     "output_type": "stream",
     "text": [
      "apple\n",
      "banana\n",
      "cherry\n"
     ]
    }
   ],
   "execution_count": 26
  },
  {
   "metadata": {},
   "cell_type": "markdown",
   "source": [
    "### While Loop\n",
    "\n",
    "* The `while` loop continues to execute as long as the given condition is `True`."
   ],
   "id": "92ebe8cbf04b8c0a"
  },
  {
   "metadata": {
    "ExecuteTime": {
     "end_time": "2024-10-05T14:19:52.992044Z",
     "start_time": "2024-10-05T14:19:52.989953Z"
    }
   },
   "cell_type": "code",
   "source": [
    "count = 0\n",
    "\n",
    "while count <= 10:\n",
    "    print(count)\n",
    "    count += 2"
   ],
   "id": "ddebf27c5ab7c6bb",
   "outputs": [
    {
     "name": "stdout",
     "output_type": "stream",
     "text": [
      "0\n",
      "2\n",
      "4\n",
      "6\n",
      "8\n",
      "10\n"
     ]
    }
   ],
   "execution_count": 35
  },
  {
   "metadata": {},
   "cell_type": "markdown",
   "source": [
    "## Conditionals\n",
    "\n",
    "* Used for decision-making.\n",
    "* Conditionals allow you to execute certain code based on conditions.\n",
    "* In the following example, The `if` statement checks if a condition is `True`. The `else` block runs if the condition is `False`."
   ],
   "id": "b993ce330da71474"
  },
  {
   "metadata": {
    "ExecuteTime": {
     "end_time": "2024-10-05T14:09:13.694591Z",
     "start_time": "2024-10-05T14:09:13.692403Z"
    }
   },
   "cell_type": "code",
   "source": [
    "fruits = [\"apple\", \"banana\", \"cherry\"]\n",
    "\n",
    "if len(fruits) > 2:\n",
    "    print(\"I have more than 2 fruits.\")\n",
    "else:\n",
    "    print(\"I do not have more than 2 fruits.\")"
   ],
   "id": "eb143102dce7c469",
   "outputs": [
    {
     "name": "stdout",
     "output_type": "stream",
     "text": [
      "I have more than 2 fruits.\n"
     ]
    }
   ],
   "execution_count": 28
  },
  {
   "metadata": {},
   "cell_type": "markdown",
   "source": [
    "## Basic Math Operations\n",
    "\n",
    "* Python can perform arithmetic operations like a calculator."
   ],
   "id": "e3f9c36b0a97b1a0"
  },
  {
   "metadata": {
    "ExecuteTime": {
     "end_time": "2024-10-05T14:24:51.112446Z",
     "start_time": "2024-10-05T14:24:51.110143Z"
    }
   },
   "cell_type": "code",
   "source": [
    "x = 10\n",
    "y = 3\n",
    "\n",
    "print(x + y)  # Addition: 13\n",
    "print(x - y)  # Subtraction: 7\n",
    "print(x * y)  # Multiplication: 30\n",
    "print(x / y)  # Division: 3.33\n",
    "print(x // y) # Floor Division: 3\n",
    "print(x % y)  # Modulus (remainder): 1\n",
    "print(x ** y) # Exponentiation: 1000"
   ],
   "id": "e55f7c6172400162",
   "outputs": [
    {
     "name": "stdout",
     "output_type": "stream",
     "text": [
      "13\n",
      "7\n",
      "30\n",
      "3.3333333333333335\n",
      "3\n",
      "1\n",
      "1000\n",
      "81\n",
      "3.0\n"
     ]
    }
   ],
   "execution_count": 37
  },
  {
   "metadata": {
    "ExecuteTime": {
     "end_time": "2024-10-05T14:25:39.165470Z",
     "start_time": "2024-10-05T14:25:39.163378Z"
    }
   },
   "cell_type": "code",
   "source": [
    "num = 9\n",
    "print(num ** 2)  # Square: 81\n",
    "print(num ** 0.5)  # Square root: 3"
   ],
   "id": "7c6001baaa6ffad9",
   "outputs": [
    {
     "name": "stdout",
     "output_type": "stream",
     "text": [
      "81\n",
      "3.0\n"
     ]
    }
   ],
   "execution_count": 39
  }
 ],
 "metadata": {
  "kernelspec": {
   "display_name": "Python 3",
   "language": "python",
   "name": "python3"
  },
  "language_info": {
   "codemirror_mode": {
    "name": "ipython",
    "version": 2
   },
   "file_extension": ".py",
   "mimetype": "text/x-python",
   "name": "python",
   "nbconvert_exporter": "python",
   "pygments_lexer": "ipython2",
   "version": "2.7.6"
  }
 },
 "nbformat": 4,
 "nbformat_minor": 5
}
