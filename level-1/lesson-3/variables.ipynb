{
 "cells": [
  {
   "metadata": {},
   "cell_type": "markdown",
   "source": [
    "# Variables in Python\n",
    "\n",
    "Variables are used to store data that can be accessed and changed later within the code.\n",
    "\n",
    "## What is a Variable?\n",
    "\n",
    "* A variable is a named location in memory that stores value.\n",
    "* You can think of it like a box with a label on it, and inside the box is the value you are storing.\n",
    "\n",
    "### Declaration and Assignment\n",
    "\n",
    "* In Python, variables do not need explicit declaration.\n",
    "* They are created the moment you first assign a value to them using the assignment operation `=`."
   ],
   "id": "911a7056505c6e6d"
  },
  {
   "cell_type": "code",
   "execution_count": null,
   "id": "initial_id",
   "metadata": {
    "collapsed": true
   },
   "outputs": [],
   "source": [
    "num = 10  # Integer\n",
    "name = \"John\"  # String\n",
    "print(num)\n",
    "print(name)"
   ]
  },
  {
   "metadata": {},
   "cell_type": "markdown",
   "source": [
    "## Variable Naming Rules\n",
    "\n",
    "Python has specific rules or naming variables:\n",
    "\n",
    "* Variable names must start with a letter (a-z, A-Z) or an underscore (`_`).\n",
    "* The rest of the name can include letters, numbers, or underscores.\n",
    "* Variable names are case-sensitive (`age` and `Age` are different).\n",
    "* It is a good practice to use descriptive names to make the core more readable."
   ],
   "id": "9161152d0c3d161d"
  },
  {
   "metadata": {
    "ExecuteTime": {
     "end_time": "2024-10-05T15:24:41.862022Z",
     "start_time": "2024-10-05T15:24:41.858211Z"
    }
   },
   "cell_type": "code",
   "source": [
    "x = 2\n",
    "user_age = 30\n",
    "NAME = \"John\"\n",
    "_city = \"Miami\"\n",
    "__state = \"Florida\"\n"
   ],
   "id": "1ccdb1777fb80485",
   "outputs": [],
   "execution_count": 2
  },
  {
   "metadata": {},
   "cell_type": "markdown",
   "source": [
    "* `3score = 90` is invalid since variables can't start with a number.\n",
    "* `Fruit = \"Orange\"` is valid, but using lowercase (`fruit`) is better practice.\n",
    "* Constants like `ENVIRONMENT = \"PRODUCTION\"` should use uppercase letters.\n",
    "* `field2 = \"University\"` is valid, but not good practice since the variable name is not descriptive.\n",
    "\n",
    "## Dynamic Typing in Python\n",
    "\n",
    "* Python is a dynamically typed language.\n",
    "* This means that you don’t need to declare the type of variable when you create one; the type is inferred at runtime.\n",
    "* This flexibility is one of Python’s strengths, but it also requires developers to be mindful of type-related issues."
   ],
   "id": "5fbb7c79f1bf62e9"
  },
  {
   "metadata": {
    "ExecuteTime": {
     "end_time": "2024-10-05T15:34:06.833837Z",
     "start_time": "2024-10-05T15:34:06.831947Z"
    }
   },
   "cell_type": "code",
   "source": [
    "num = 10  # Integer\n",
    "name = \"John\"  # String"
   ],
   "id": "59d21f8819fbed39",
   "outputs": [],
   "execution_count": 3
  },
  {
   "metadata": {},
   "cell_type": "markdown",
   "source": [
    "## Variable Scope and Lifetime\n",
    "\n",
    "The scope of a variable refers to the region of the program where the variable is accessible.\n",
    "\n",
    "Python has two main types of scopes:\n",
    "\n",
    "* Local Scope: Variables defined inside a function are local to that function and cannot be accessed outside.\n",
    "* Global Scope: Variables defined outside all functions are global and can be accessed throughout the script."
   ],
   "id": "2ba5bc00661871ef"
  },
  {
   "metadata": {
    "ExecuteTime": {
     "end_time": "2024-10-05T15:36:27.946093Z",
     "start_time": "2024-10-05T15:36:27.943394Z"
    }
   },
   "cell_type": "code",
   "source": [
    "def greet():\n",
    "    message = \"Hello!\"  # local variable\n",
    "    print(message)\n",
    "\n",
    "greet()\n",
    "# print(message)  # Error: message is not accessible outside the function\n",
    "\n",
    "global_var = \"I am global\"\n",
    "\n",
    "def print_global():\n",
    "    print(global_var)  # global variable is accessible inside functions\n",
    "\n",
    "print_global()"
   ],
   "id": "6f5dc43f5940e647",
   "outputs": [
    {
     "name": "stdout",
     "output_type": "stream",
     "text": [
      "Hello!\n",
      "I am global\n"
     ]
    }
   ],
   "execution_count": 4
  },
  {
   "metadata": {},
   "cell_type": "markdown",
   "source": [
    "## Constants in Python\n",
    "\n",
    "* Python does not have built-in support for constants (immutable variables).\n",
    "* However, by convention, constant variable names are written in uppercase letters to indicate that their value should not be changed.\n",
    "* While Python doesn't enforce this, it's important to follow this convention to maintain clarity in code. Meaning, you can still define a constant like `max_speed = 120`, but this is not a good practice. Rather, `MAX_SPEED = 120` follows the convention."
   ],
   "id": "f491b5c5db0df3bc"
  },
  {
   "metadata": {
    "ExecuteTime": {
     "end_time": "2024-10-05T15:39:14.811884Z",
     "start_time": "2024-10-05T15:39:14.810225Z"
    }
   },
   "cell_type": "code",
   "source": [
    "PI = 3.14159  # Convention for a constant value\n",
    "MAX_SPEED = 120"
   ],
   "id": "b4a1dd3552c90a85",
   "outputs": [],
   "execution_count": 5
  },
  {
   "metadata": {},
   "cell_type": "markdown",
   "source": [
    "## Mutable vs Immutable Variables\n",
    "\n",
    "In Python, some data types are mutable (can be changed after creation) while others are immutable (cannot be changed).\n",
    "\n",
    "* Immutable types: `int`, `float`, `bool`, `str`, `tuple`, `frozenset`\n",
    "* Mutable types: `list`, `dict`, `set`"
   ],
   "id": "c9c97e84b60db2d4"
  },
  {
   "metadata": {
    "ExecuteTime": {
     "end_time": "2024-10-05T15:41:40.204849Z",
     "start_time": "2024-10-05T15:41:40.201976Z"
    }
   },
   "cell_type": "code",
   "source": [
    "# Immutable example\n",
    "a = 10\n",
    "b = a\n",
    "a = 20\n",
    "print(b)  # b will still be 10 because integers are immutable\n",
    "\n",
    "# Mutable example\n",
    "my_list = [1, 2, 3]\n",
    "another_list = my_list\n",
    "my_list[0] = 99\n",
    "print(another_list)  # another_list will also be [99, 2, 3] because lists are mutable\n"
   ],
   "id": "a0d38cdbfa3a0a3d",
   "outputs": [
    {
     "name": "stdout",
     "output_type": "stream",
     "text": [
      "10\n",
      "[99, 2, 3]\n"
     ]
    }
   ],
   "execution_count": 6
  },
  {
   "metadata": {
    "ExecuteTime": {
     "end_time": "2024-10-05T15:44:46.154718Z",
     "start_time": "2024-10-05T15:44:46.152063Z"
    }
   },
   "cell_type": "code",
   "source": [
    "z = 10\n",
    "b = z\n",
    "print(b)\n",
    "b = 20\n",
    "print(b)  # b will still be 20 because b is redeclared"
   ],
   "id": "213d09acb47caba3",
   "outputs": [
    {
     "name": "stdout",
     "output_type": "stream",
     "text": [
      "10\n",
      "20\n"
     ]
    }
   ],
   "execution_count": 7
  },
  {
   "metadata": {},
   "cell_type": "markdown",
   "source": [
    "## Best Practices for Variables in Professional Code\n",
    "\n",
    "* Use Descriptive Names: Choose meaningful names that describe the purpose of the variable.\n",
    "  * Avoid `m = 12`, better use `month = 12`.\n",
    "* Avoid Using Global Variables: In professional settings, minimize the use of global variables as they can make debugging and testing more difficult.\n",
    "* Follow PEP 8 Naming Conventions: Use `snake_case` for variable names and constants.\n",
    "  * `user_name = \"John Doe\"`\n",
    "  * Constant variable: `MAX_CONNECTIONS = 5`\n",
    "* Avoid Reusing Variable Names: Especially in large codebases, reusing the same variable name can cause confusion and bugs.\n",
    "\n",
    "## Variable Annotations\n",
    "\n",
    "* In professional Python code, especially when using static type checking (e.g., `mypy`), it's a good idea to include type hints with variable annotations\n",
    "* These annotations do not affect the execution but help tools detect type-related issues early in development."
   ],
   "id": "7210fce3a8c6413d"
  },
  {
   "metadata": {},
   "cell_type": "code",
   "outputs": [],
   "execution_count": null,
   "source": [
    "age: int = 25\n",
    "first_name: str = \"John\"\n",
    "active: bool = True"
   ],
   "id": "cb189a1463088b52"
  },
  {
   "metadata": {},
   "cell_type": "markdown",
   "source": [
    "## Global and Nonlocal Keywords\n",
    "\n",
    "* The `global` keyword allows you to modify global variables from within a function.\n",
    "* The `nonlocal` keyword allows you to modify variables from an enclosing (but non-global) scope.\n",
    "* In the following examples, the first demonstrates modifying a global variable from within a function.\n",
    "* The second shows modifying a variable from an enclosing function using `nonlocal`.\n",
    "* You need the `nonlocal` keyword if you want to modify a variable from an enclosing (but non-global) scope within a nested function. Without `nonlocal`, the inner function will treat that variable as a new local variable, which can lead to an error if you try to access or modify it before it has been assigned a value."
   ],
   "id": "7eba4fd9913d88c"
  },
  {
   "metadata": {
    "ExecuteTime": {
     "end_time": "2024-10-05T15:53:35.336016Z",
     "start_time": "2024-10-05T15:53:35.333577Z"
    }
   },
   "cell_type": "code",
   "source": [
    "MAX_LIMIT = 10  # Global variable\n",
    "\n",
    "def modify_global():\n",
    "    global MAX_LIMIT  # Declare x as global\n",
    "    MAX_LIMIT += 5    # Modify the global variable\n",
    "\n",
    "modify_global()\n",
    "print(MAX_LIMIT)  # Output: 15"
   ],
   "id": "3e225d0de204226b",
   "outputs": [
    {
     "name": "stdout",
     "output_type": "stream",
     "text": [
      "15\n"
     ]
    }
   ],
   "execution_count": 9
  },
  {
   "metadata": {
    "ExecuteTime": {
     "end_time": "2024-10-05T15:55:24.909857Z",
     "start_time": "2024-10-05T15:55:24.906894Z"
    }
   },
   "cell_type": "code",
   "source": [
    "def outer_function():\n",
    "    month = 8  # Enclosing variable\n",
    "\n",
    "    def inner_function():\n",
    "        # If you omit the nonlocal keyword, you'll get an UnboundLocalError.\n",
    "        nonlocal month  # Declare y as nonlocal\n",
    "        month += 2      # Modify the enclosing variable\n",
    "\n",
    "    inner_function()\n",
    "    print(month)  # Output: 10\n",
    "\n",
    "outer_function()"
   ],
   "id": "2a573805851161a4",
   "outputs": [
    {
     "name": "stdout",
     "output_type": "stream",
     "text": [
      "10\n"
     ]
    }
   ],
   "execution_count": 12
  },
  {
   "metadata": {},
   "cell_type": "markdown",
   "source": [
    "## Memory Management and Garbage Collection\n",
    "\n",
    "* Python manages memory automatically using `garbage collection`.\n",
    "* Variables are stored in memory locations, and Python keeps track of the reference count (how many variables reference the object).\n",
    "* When an object’s reference count drops to zero, Python automatically deletes it from memory."
   ],
   "id": "cb556ba2537aefbb"
  },
  {
   "metadata": {
    "ExecuteTime": {
     "end_time": "2024-10-05T16:02:44.153420Z",
     "start_time": "2024-10-05T16:02:44.150097Z"
    }
   },
   "cell_type": "code",
   "source": [
    "numbers = [1, 2, 3]  # A list object is created in memory\n",
    "y = numbers          # Another reference to the same list object\n",
    "del numbers          # List object is not removed because y still references it\n",
    "del y                # Now the object is removed from memory since no references remain"
   ],
   "id": "8dfa715d45cb3dbc",
   "outputs": [],
   "execution_count": 15
  },
  {
   "metadata": {},
   "cell_type": "markdown",
   "source": [
    "## Conclusion:\n",
    "\n",
    "* Variables are the building blocks of any Python program.\n",
    "* Starting from basic assignments to more advanced topics like scope, mutability, and memory management, understanding how to handle variables efficiently is key to writing professional, clean, and maintainable Python code.\n",
    "* By following best practices and being aware of how Python manages variables under the hood, you’ll be able to write more efficient and robust programs."
   ],
   "id": "e989e70d9ae068f1"
  }
 ],
 "metadata": {
  "kernelspec": {
   "display_name": "Python 3",
   "language": "python",
   "name": "python3"
  },
  "language_info": {
   "codemirror_mode": {
    "name": "ipython",
    "version": 2
   },
   "file_extension": ".py",
   "mimetype": "text/x-python",
   "name": "python",
   "nbconvert_exporter": "python",
   "pygments_lexer": "ipython2",
   "version": "2.7.6"
  }
 },
 "nbformat": 4,
 "nbformat_minor": 5
}
